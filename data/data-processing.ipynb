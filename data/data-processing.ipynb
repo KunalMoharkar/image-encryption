{
 "cells": [
  {
   "cell_type": "code",
   "execution_count": 4,
   "id": "upper-going",
   "metadata": {},
   "outputs": [],
   "source": [
    "import os\n",
    "import pandas as pd\n",
    "import cv2 \n",
    "import random"
   ]
  },
  {
   "cell_type": "code",
   "execution_count": 45,
   "id": "motivated-mississippi",
   "metadata": {},
   "outputs": [],
   "source": [
    "#read csv labels\n",
    "df = pd.read_csv(\"trainLabels.csv\")\n",
    "records = df.to_dict(\"records\")\n",
    "\n",
    "#map category to label\n",
    "#use dict fast access\n",
    "LABEL_TO_CAT_MAP = {}\n",
    "\n",
    "for record in records:\n",
    "    \n",
    "    _id = record['id']\n",
    "    label = record['label']    \n",
    "    LABEL_TO_CAT_MAP[_id] = label\n"
   ]
  },
  {
   "cell_type": "code",
   "execution_count": 46,
   "id": "limited-denmark",
   "metadata": {},
   "outputs": [
    {
     "name": "stdout",
     "output_type": "stream",
     "text": [
      "No. of images - 50000\n"
     ]
    }
   ],
   "source": [
    "\n",
    "\n",
    "#images\n",
    "all_images = os.listdir(\"train\")\n",
    "print(f\"No. of images - {len(all_images)}\")\n",
    "\n",
    "for image in all_images:\n",
    "    \n",
    "    img = cv2.imread(f\"train/{image}\")\n",
    "    image_index = image.split(\".\")[0]\n",
    "    folder = LABEL_TO_CAT_MAP[int(image_index)]\n",
    "    \n",
    "    cv2.imwrite(f\"E:\\\\NTMC\\\\CIFAR-10\\\\{folder}\\\\{image_index}.png\", img)\n",
    "\n",
    "    \n"
   ]
  },
  {
   "cell_type": "code",
   "execution_count": 2,
   "id": "directed-pathology",
   "metadata": {},
   "outputs": [],
   "source": [
    "#image categories\n",
    "CATEGORIES = [\"airplane\", \"automobile\", \"bird\", \"cat\", \"deer\", \"dog\", \"frog\", \"horse\", \"ship\", \"truck\"]\n",
    "SAMPLING_SIZE = 1000"
   ]
  },
  {
   "cell_type": "code",
   "execution_count": 10,
   "id": "incredible-cement",
   "metadata": {
    "scrolled": false
   },
   "outputs": [
    {
     "name": "stdout",
     "output_type": "stream",
     "text": [
      "CATEGORY: airplane -- IMAGES: 5000\n",
      "CATEGORY: airplane -- SAMPLED IMAGES: 1000\n",
      "CATEGORY: automobile -- IMAGES: 5000\n",
      "CATEGORY: automobile -- SAMPLED IMAGES: 1000\n",
      "CATEGORY: bird -- IMAGES: 5000\n",
      "CATEGORY: bird -- SAMPLED IMAGES: 1000\n",
      "CATEGORY: cat -- IMAGES: 5000\n",
      "CATEGORY: cat -- SAMPLED IMAGES: 1000\n",
      "CATEGORY: deer -- IMAGES: 5000\n",
      "CATEGORY: deer -- SAMPLED IMAGES: 1000\n",
      "CATEGORY: dog -- IMAGES: 5000\n",
      "CATEGORY: dog -- SAMPLED IMAGES: 1000\n",
      "CATEGORY: frog -- IMAGES: 5000\n",
      "CATEGORY: frog -- SAMPLED IMAGES: 1000\n",
      "CATEGORY: horse -- IMAGES: 5000\n",
      "CATEGORY: horse -- SAMPLED IMAGES: 1000\n",
      "CATEGORY: ship -- IMAGES: 5000\n",
      "CATEGORY: ship -- SAMPLED IMAGES: 1000\n",
      "CATEGORY: truck -- IMAGES: 5000\n",
      "CATEGORY: truck -- SAMPLED IMAGES: 1000\n"
     ]
    }
   ],
   "source": [
    "for cat in CATEGORIES:\n",
    "    \n",
    "    #get all images of a particular category \n",
    "    all_images = os.listdir(f\"CIFAR-10/{cat}\")\n",
    "    print(f\"CATEGORY: {cat} -- IMAGES: {len(all_images)}\")\n",
    "    \n",
    "    #select random 1000 images\n",
    "    sampled_images = random.sample(all_images, SAMPLING_SIZE)\n",
    "    print(f\"CATEGORY: {cat} -- SAMPLED IMAGES: {len(sampled_images)}\")\n",
    "    \n",
    "    for image in sampled_images:\n",
    "        img = cv2.imread(f\"CIFAR-10/{cat}/{image}\")\n",
    "        image_index = image.split(\".\")[0]\n",
    "        cv2.imwrite(f\"E:\\\\NTMC\\\\CIFAR-10\\\\{cat}-1000\\\\{image_index}.png\", img)\n",
    "    "
   ]
  },
  {
   "cell_type": "code",
   "execution_count": 13,
   "id": "bibliographic-castle",
   "metadata": {},
   "outputs": [
    {
     "name": "stdout",
     "output_type": "stream",
     "text": [
      "CATEGORIES SELECTED : ['ship', 'dog']\n",
      "CATEGORY: ship -- IMAGES: 1000\n",
      "CATEGORY: dog -- IMAGES: 1000\n",
      "CATEGORIES SELECTED : ['cat', 'automobile', 'deer', 'airplane', 'frog']\n",
      "CATEGORY: cat -- IMAGES: 1000\n",
      "CATEGORY: automobile -- IMAGES: 1000\n",
      "CATEGORY: deer -- IMAGES: 1000\n",
      "CATEGORY: airplane -- IMAGES: 1000\n",
      "CATEGORY: frog -- IMAGES: 1000\n",
      "CATEGORIES SELECTED : ['bird', 'airplane', 'truck', 'ship', 'deer', 'horse', 'dog', 'cat']\n",
      "CATEGORY: bird -- IMAGES: 1000\n",
      "CATEGORY: airplane -- IMAGES: 1000\n",
      "CATEGORY: truck -- IMAGES: 1000\n",
      "CATEGORY: ship -- IMAGES: 1000\n",
      "CATEGORY: deer -- IMAGES: 1000\n",
      "CATEGORY: horse -- IMAGES: 1000\n",
      "CATEGORY: dog -- IMAGES: 1000\n",
      "CATEGORY: cat -- IMAGES: 1000\n"
     ]
    }
   ],
   "source": [
    "#select random categories to create dataset of \n",
    "#create 2000 5000 8000 images dataset\n",
    "num_categories = [2,5,8]\n",
    "\n",
    "for num in num_categories:\n",
    "    \n",
    "    sampled_categories = random.sample(CATEGORIES,num)\n",
    "    print(f\"CATEGORIES SELECTED : {sampled_categories}\")\n",
    "    \n",
    "    for cat in sampled_categories:\n",
    "    \n",
    "        #get all images of a particular category \n",
    "        all_images = os.listdir(f\"CIFAR-10/{cat}-1000\")\n",
    "        print(f\"CATEGORY: {cat} -- IMAGES: {len(all_images)}\")\n",
    "    \n",
    "    \n",
    "        for image in all_images:\n",
    "            img = cv2.imread(f\"CIFAR-10/{cat}-1000/{image}\")\n",
    "            image_index = image.split(\".\")[0]\n",
    "            cv2.imwrite(f\"E:\\\\NTMC\\\\CIFAR-10\\\\dataset-{num*1000}\\\\{image_index}.png\", img)\n",
    "    "
   ]
  }
 ],
 "metadata": {
  "kernelspec": {
   "display_name": "Python 3",
   "language": "python",
   "name": "python3"
  },
  "language_info": {
   "codemirror_mode": {
    "name": "ipython",
    "version": 3
   },
   "file_extension": ".py",
   "mimetype": "text/x-python",
   "name": "python",
   "nbconvert_exporter": "python",
   "pygments_lexer": "ipython3",
   "version": "3.7.3"
  }
 },
 "nbformat": 4,
 "nbformat_minor": 5
}
